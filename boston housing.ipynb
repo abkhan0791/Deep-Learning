{
 "cells": [
  {
   "cell_type": "code",
   "execution_count": 51,
   "metadata": {},
   "outputs": [],
   "source": [
    "import numpy as np\n",
    "import pandas as pd"
   ]
  },
  {
   "cell_type": "code",
   "execution_count": 52,
   "metadata": {},
   "outputs": [],
   "source": [
    "boston_housing = pd.read_csv('boston.csv')"
   ]
  },
  {
   "cell_type": "code",
   "execution_count": 53,
   "metadata": {},
   "outputs": [
    {
     "data": {
      "text/plain": [
       "(506, 15)"
      ]
     },
     "execution_count": 53,
     "metadata": {},
     "output_type": "execute_result"
    }
   ],
   "source": [
    "boston_housing.shape"
   ]
  },
  {
   "cell_type": "code",
   "execution_count": 54,
   "metadata": {},
   "outputs": [
    {
     "data": {
      "text/html": [
       "<div>\n",
       "<style scoped>\n",
       "    .dataframe tbody tr th:only-of-type {\n",
       "        vertical-align: middle;\n",
       "    }\n",
       "\n",
       "    .dataframe tbody tr th {\n",
       "        vertical-align: top;\n",
       "    }\n",
       "\n",
       "    .dataframe thead th {\n",
       "        text-align: right;\n",
       "    }\n",
       "</style>\n",
       "<table border=\"1\" class=\"dataframe\">\n",
       "  <thead>\n",
       "    <tr style=\"text-align: right;\">\n",
       "      <th></th>\n",
       "      <th>Unnamed: 0</th>\n",
       "      <th>crim</th>\n",
       "      <th>zn</th>\n",
       "      <th>indus</th>\n",
       "      <th>chas</th>\n",
       "      <th>nox</th>\n",
       "      <th>rm</th>\n",
       "      <th>age</th>\n",
       "      <th>dis</th>\n",
       "      <th>rad</th>\n",
       "      <th>tax</th>\n",
       "      <th>ptratio</th>\n",
       "      <th>black</th>\n",
       "      <th>lstat</th>\n",
       "      <th>medv</th>\n",
       "    </tr>\n",
       "  </thead>\n",
       "  <tbody>\n",
       "    <tr>\n",
       "      <td>0</td>\n",
       "      <td>1</td>\n",
       "      <td>0.00632</td>\n",
       "      <td>18.0</td>\n",
       "      <td>2.31</td>\n",
       "      <td>0</td>\n",
       "      <td>0.538</td>\n",
       "      <td>6.575</td>\n",
       "      <td>65.2</td>\n",
       "      <td>4.0900</td>\n",
       "      <td>1</td>\n",
       "      <td>296</td>\n",
       "      <td>15.3</td>\n",
       "      <td>396.90</td>\n",
       "      <td>4.98</td>\n",
       "      <td>24.0</td>\n",
       "    </tr>\n",
       "    <tr>\n",
       "      <td>1</td>\n",
       "      <td>2</td>\n",
       "      <td>0.02731</td>\n",
       "      <td>0.0</td>\n",
       "      <td>7.07</td>\n",
       "      <td>0</td>\n",
       "      <td>0.469</td>\n",
       "      <td>6.421</td>\n",
       "      <td>78.9</td>\n",
       "      <td>4.9671</td>\n",
       "      <td>2</td>\n",
       "      <td>242</td>\n",
       "      <td>17.8</td>\n",
       "      <td>396.90</td>\n",
       "      <td>9.14</td>\n",
       "      <td>21.6</td>\n",
       "    </tr>\n",
       "    <tr>\n",
       "      <td>2</td>\n",
       "      <td>3</td>\n",
       "      <td>0.02729</td>\n",
       "      <td>0.0</td>\n",
       "      <td>7.07</td>\n",
       "      <td>0</td>\n",
       "      <td>0.469</td>\n",
       "      <td>7.185</td>\n",
       "      <td>61.1</td>\n",
       "      <td>4.9671</td>\n",
       "      <td>2</td>\n",
       "      <td>242</td>\n",
       "      <td>17.8</td>\n",
       "      <td>392.83</td>\n",
       "      <td>4.03</td>\n",
       "      <td>34.7</td>\n",
       "    </tr>\n",
       "    <tr>\n",
       "      <td>3</td>\n",
       "      <td>4</td>\n",
       "      <td>0.03237</td>\n",
       "      <td>0.0</td>\n",
       "      <td>2.18</td>\n",
       "      <td>0</td>\n",
       "      <td>0.458</td>\n",
       "      <td>6.998</td>\n",
       "      <td>45.8</td>\n",
       "      <td>6.0622</td>\n",
       "      <td>3</td>\n",
       "      <td>222</td>\n",
       "      <td>18.7</td>\n",
       "      <td>394.63</td>\n",
       "      <td>2.94</td>\n",
       "      <td>33.4</td>\n",
       "    </tr>\n",
       "    <tr>\n",
       "      <td>4</td>\n",
       "      <td>5</td>\n",
       "      <td>0.06905</td>\n",
       "      <td>0.0</td>\n",
       "      <td>2.18</td>\n",
       "      <td>0</td>\n",
       "      <td>0.458</td>\n",
       "      <td>7.147</td>\n",
       "      <td>54.2</td>\n",
       "      <td>6.0622</td>\n",
       "      <td>3</td>\n",
       "      <td>222</td>\n",
       "      <td>18.7</td>\n",
       "      <td>396.90</td>\n",
       "      <td>5.33</td>\n",
       "      <td>36.2</td>\n",
       "    </tr>\n",
       "  </tbody>\n",
       "</table>\n",
       "</div>"
      ],
      "text/plain": [
       "   Unnamed: 0     crim    zn  indus  chas    nox     rm   age     dis  rad  \\\n",
       "0           1  0.00632  18.0   2.31     0  0.538  6.575  65.2  4.0900    1   \n",
       "1           2  0.02731   0.0   7.07     0  0.469  6.421  78.9  4.9671    2   \n",
       "2           3  0.02729   0.0   7.07     0  0.469  7.185  61.1  4.9671    2   \n",
       "3           4  0.03237   0.0   2.18     0  0.458  6.998  45.8  6.0622    3   \n",
       "4           5  0.06905   0.0   2.18     0  0.458  7.147  54.2  6.0622    3   \n",
       "\n",
       "   tax  ptratio   black  lstat  medv  \n",
       "0  296     15.3  396.90   4.98  24.0  \n",
       "1  242     17.8  396.90   9.14  21.6  \n",
       "2  242     17.8  392.83   4.03  34.7  \n",
       "3  222     18.7  394.63   2.94  33.4  \n",
       "4  222     18.7  396.90   5.33  36.2  "
      ]
     },
     "execution_count": 54,
     "metadata": {},
     "output_type": "execute_result"
    }
   ],
   "source": [
    "boston_housing.head()"
   ]
  },
  {
   "cell_type": "code",
   "execution_count": 55,
   "metadata": {},
   "outputs": [],
   "source": [
    "from sklearn.model_selection import train_test_split"
   ]
  },
  {
   "cell_type": "code",
   "execution_count": 56,
   "metadata": {},
   "outputs": [],
   "source": [
    "x = boston_housing.drop(columns=['medv'])\n",
    "y = boston_housing['medv']"
   ]
  },
  {
   "cell_type": "code",
   "execution_count": 57,
   "metadata": {},
   "outputs": [],
   "source": [
    "from sklearn.model_selection import train_test_split"
   ]
  },
  {
   "cell_type": "code",
   "execution_count": 58,
   "metadata": {},
   "outputs": [],
   "source": [
    "x_train, x_test, y_train, y_test = train_test_split(x, y, test_size = 0.3, random_state = 42)"
   ]
  },
  {
   "cell_type": "code",
   "execution_count": 59,
   "metadata": {},
   "outputs": [
    {
     "data": {
      "text/plain": [
       "(354, 14)"
      ]
     },
     "execution_count": 59,
     "metadata": {},
     "output_type": "execute_result"
    }
   ],
   "source": [
    "x_train.shape"
   ]
  },
  {
   "cell_type": "code",
   "execution_count": 87,
   "metadata": {},
   "outputs": [
    {
     "data": {
      "text/plain": [
       "(354,)"
      ]
     },
     "execution_count": 87,
     "metadata": {},
     "output_type": "execute_result"
    }
   ],
   "source": [
    "y_train.shape"
   ]
  },
  {
   "cell_type": "code",
   "execution_count": 88,
   "metadata": {},
   "outputs": [
    {
     "data": {
      "text/plain": [
       "(152,)"
      ]
     },
     "execution_count": 88,
     "metadata": {},
     "output_type": "execute_result"
    }
   ],
   "source": [
    "y_test.shape"
   ]
  },
  {
   "cell_type": "code",
   "execution_count": 61,
   "metadata": {},
   "outputs": [],
   "source": [
    "from tensorflow.keras.models import Sequential\n",
    "from tensorflow.keras.layers import Dense"
   ]
  },
  {
   "cell_type": "code",
   "execution_count": 68,
   "metadata": {},
   "outputs": [],
   "source": [
    "model = Sequential()\n",
    "model.add(Dense(14, activation = 'relu', input_shape = (14,)))\n",
    "model.add(Dense(14, activation = 'relu'))\n",
    "model.add(Dense(14, activation = 'relu'))\n",
    "\n",
    "model.add(Dense(1))"
   ]
  },
  {
   "cell_type": "code",
   "execution_count": 69,
   "metadata": {},
   "outputs": [],
   "source": [
    "model.compile(optimizer = 'rmsprop',\n",
    "             loss = 'mse')"
   ]
  },
  {
   "cell_type": "code",
   "execution_count": 107,
   "metadata": {},
   "outputs": [
    {
     "name": "stdout",
     "output_type": "stream",
     "text": [
      "Train on 354 samples\n",
      "Epoch 1/100\n",
      "354/354 [==============================] - 0s 102us/sample - loss: 43.0818\n",
      "Epoch 2/100\n",
      "354/354 [==============================] - 0s 82us/sample - loss: 35.7336\n",
      "Epoch 3/100\n",
      "354/354 [==============================] - 0s 96us/sample - loss: 37.9423\n",
      "Epoch 4/100\n",
      "354/354 [==============================] - 0s 85us/sample - loss: 40.0682\n",
      "Epoch 5/100\n",
      "354/354 [==============================] - 0s 93us/sample - loss: 40.8258\n",
      "Epoch 6/100\n",
      "354/354 [==============================] - 0s 90us/sample - loss: 37.2106\n",
      "Epoch 7/100\n",
      "354/354 [==============================] - 0s 99us/sample - loss: 40.8828\n",
      "Epoch 8/100\n",
      "354/354 [==============================] - 0s 88us/sample - loss: 39.8690\n",
      "Epoch 9/100\n",
      "354/354 [==============================] - 0s 88us/sample - loss: 36.0208\n",
      "Epoch 10/100\n",
      "354/354 [==============================] - 0s 88us/sample - loss: 33.3467\n",
      "Epoch 11/100\n",
      "354/354 [==============================] - 0s 93us/sample - loss: 39.2808\n",
      "Epoch 12/100\n",
      "354/354 [==============================] - 0s 88us/sample - loss: 38.2415\n",
      "Epoch 13/100\n",
      "354/354 [==============================] - 0s 90us/sample - loss: 35.4021\n",
      "Epoch 14/100\n",
      "354/354 [==============================] - 0s 88us/sample - loss: 41.6427\n",
      "Epoch 15/100\n",
      "354/354 [==============================] - 0s 90us/sample - loss: 35.3439\n",
      "Epoch 16/100\n",
      "354/354 [==============================] - 0s 90us/sample - loss: 36.4411\n",
      "Epoch 17/100\n",
      "354/354 [==============================] - 0s 90us/sample - loss: 45.9914\n",
      "Epoch 18/100\n",
      "354/354 [==============================] - 0s 88us/sample - loss: 30.9663\n",
      "Epoch 19/100\n",
      "354/354 [==============================] - 0s 93us/sample - loss: 39.0105\n",
      "Epoch 20/100\n",
      "354/354 [==============================] - 0s 88us/sample - loss: 33.5115\n",
      "Epoch 21/100\n",
      "354/354 [==============================] - 0s 90us/sample - loss: 37.3889\n",
      "Epoch 22/100\n",
      "354/354 [==============================] - 0s 90us/sample - loss: 37.5758\n",
      "Epoch 23/100\n",
      "354/354 [==============================] - 0s 88us/sample - loss: 32.8587\n",
      "Epoch 24/100\n",
      "354/354 [==============================] - 0s 96us/sample - loss: 37.9446\n",
      "Epoch 25/100\n",
      "354/354 [==============================] - 0s 96us/sample - loss: 35.5452\n",
      "Epoch 26/100\n",
      "354/354 [==============================] - 0s 99us/sample - loss: 38.7699\n",
      "Epoch 27/100\n",
      "354/354 [==============================] - 0s 107us/sample - loss: 42.8883\n",
      "Epoch 28/100\n",
      "354/354 [==============================] - 0s 88us/sample - loss: 31.1063\n",
      "Epoch 29/100\n",
      "354/354 [==============================] - 0s 113us/sample - loss: 35.9445\n",
      "Epoch 30/100\n",
      "354/354 [==============================] - 0s 96us/sample - loss: 33.8178\n",
      "Epoch 31/100\n",
      "354/354 [==============================] - 0s 107us/sample - loss: 35.8449\n",
      "Epoch 32/100\n",
      "354/354 [==============================] - 0s 90us/sample - loss: 39.5158\n",
      "Epoch 33/100\n",
      "354/354 [==============================] - 0s 96us/sample - loss: 38.9237\n",
      "Epoch 34/100\n",
      "354/354 [==============================] - 0s 107us/sample - loss: 32.6621\n",
      "Epoch 35/100\n",
      "354/354 [==============================] - 0s 119us/sample - loss: 30.2178\n",
      "Epoch 36/100\n",
      "354/354 [==============================] - 0s 110us/sample - loss: 37.2338\n",
      "Epoch 37/100\n",
      "354/354 [==============================] - 0s 96us/sample - loss: 32.6456\n",
      "Epoch 38/100\n",
      "354/354 [==============================] - 0s 96us/sample - loss: 34.7069\n",
      "Epoch 39/100\n",
      "354/354 [==============================] - 0s 90us/sample - loss: 31.9914\n",
      "Epoch 40/100\n",
      "354/354 [==============================] - 0s 96us/sample - loss: 41.4049\n",
      "Epoch 41/100\n",
      "354/354 [==============================] - 0s 90us/sample - loss: 36.3833\n",
      "Epoch 42/100\n",
      "354/354 [==============================] - 0s 88us/sample - loss: 32.6694\n",
      "Epoch 43/100\n",
      "354/354 [==============================] - 0s 96us/sample - loss: 33.1576\n",
      "Epoch 44/100\n",
      "354/354 [==============================] - 0s 102us/sample - loss: 33.0114\n",
      "Epoch 45/100\n",
      "354/354 [==============================] - 0s 110us/sample - loss: 33.5584\n",
      "Epoch 46/100\n",
      "354/354 [==============================] - 0s 90us/sample - loss: 30.3266\n",
      "Epoch 47/100\n",
      "354/354 [==============================] - 0s 88us/sample - loss: 49.0864\n",
      "Epoch 48/100\n",
      "354/354 [==============================] - 0s 99us/sample - loss: 31.7149\n",
      "Epoch 49/100\n",
      "354/354 [==============================] - 0s 104us/sample - loss: 44.6911\n",
      "Epoch 50/100\n",
      "354/354 [==============================] - 0s 102us/sample - loss: 29.1630\n",
      "Epoch 51/100\n",
      "354/354 [==============================] - 0s 99us/sample - loss: 29.7771\n",
      "Epoch 52/100\n",
      "354/354 [==============================] - 0s 88us/sample - loss: 37.1916\n",
      "Epoch 53/100\n",
      "354/354 [==============================] - 0s 90us/sample - loss: 31.2823\n",
      "Epoch 54/100\n",
      "354/354 [==============================] - 0s 107us/sample - loss: 32.6433\n",
      "Epoch 55/100\n",
      "354/354 [==============================] - 0s 79us/sample - loss: 35.2336\n",
      "Epoch 56/100\n",
      "354/354 [==============================] - 0s 99us/sample - loss: 31.7938\n",
      "Epoch 57/100\n",
      "354/354 [==============================] - 0s 93us/sample - loss: 34.1172\n",
      "Epoch 58/100\n",
      "354/354 [==============================] - 0s 96us/sample - loss: 30.5588\n",
      "Epoch 59/100\n",
      "354/354 [==============================] - 0s 96us/sample - loss: 35.6800\n",
      "Epoch 60/100\n",
      "354/354 [==============================] - 0s 88us/sample - loss: 30.3760\n",
      "Epoch 61/100\n",
      "354/354 [==============================] - 0s 113us/sample - loss: 39.3539\n",
      "Epoch 62/100\n",
      "354/354 [==============================] - 0s 119us/sample - loss: 28.4788\n",
      "Epoch 63/100\n",
      "354/354 [==============================] - 0s 88us/sample - loss: 32.7441\n",
      "Epoch 64/100\n",
      "354/354 [==============================] - 0s 104us/sample - loss: 36.6466\n",
      "Epoch 65/100\n",
      "354/354 [==============================] - 0s 96us/sample - loss: 33.5406\n",
      "Epoch 66/100\n",
      "354/354 [==============================] - 0s 96us/sample - loss: 29.2648\n",
      "Epoch 67/100\n",
      "354/354 [==============================] - 0s 96us/sample - loss: 31.9561\n",
      "Epoch 68/100\n",
      "354/354 [==============================] - 0s 88us/sample - loss: 31.6900\n",
      "Epoch 69/100\n",
      "354/354 [==============================] - 0s 93us/sample - loss: 33.4971\n",
      "Epoch 70/100\n",
      "354/354 [==============================] - 0s 88us/sample - loss: 32.5368\n",
      "Epoch 71/100\n",
      "354/354 [==============================] - 0s 99us/sample - loss: 30.2581\n",
      "Epoch 72/100\n",
      "354/354 [==============================] - 0s 93us/sample - loss: 32.1400\n",
      "Epoch 73/100\n",
      "354/354 [==============================] - 0s 90us/sample - loss: 40.3306\n",
      "Epoch 74/100\n",
      "354/354 [==============================] - 0s 102us/sample - loss: 27.1241\n",
      "Epoch 75/100\n",
      "354/354 [==============================] - 0s 113us/sample - loss: 30.2673\n",
      "Epoch 76/100\n",
      "354/354 [==============================] - 0s 99us/sample - loss: 32.4039\n",
      "Epoch 77/100\n",
      "354/354 [==============================] - 0s 88us/sample - loss: 30.3222\n",
      "Epoch 78/100\n",
      "354/354 [==============================] - 0s 96us/sample - loss: 32.7564\n",
      "Epoch 79/100\n",
      "354/354 [==============================] - 0s 96us/sample - loss: 26.4087\n",
      "Epoch 80/100\n",
      "354/354 [==============================] - ETA: 0s - loss: 41.01 - 0s 99us/sample - loss: 37.7433\n",
      "Epoch 81/100\n",
      "354/354 [==============================] - 0s 85us/sample - loss: 34.2583\n",
      "Epoch 82/100\n",
      "354/354 [==============================] - 0s 99us/sample - loss: 33.0365\n",
      "Epoch 83/100\n",
      "354/354 [==============================] - 0s 93us/sample - loss: 30.3874\n",
      "Epoch 84/100\n",
      "354/354 [==============================] - 0s 88us/sample - loss: 33.2191\n",
      "Epoch 85/100\n",
      "354/354 [==============================] - 0s 102us/sample - loss: 33.9143\n",
      "Epoch 86/100\n",
      "354/354 [==============================] - 0s 90us/sample - loss: 31.1167\n",
      "Epoch 87/100\n",
      "354/354 [==============================] - 0s 90us/sample - loss: 30.0356\n",
      "Epoch 88/100\n",
      "354/354 [==============================] - 0s 99us/sample - loss: 34.6066\n",
      "Epoch 89/100\n",
      "354/354 [==============================] - 0s 107us/sample - loss: 27.7431\n",
      "Epoch 90/100\n",
      "354/354 [==============================] - 0s 85us/sample - loss: 33.1256\n",
      "Epoch 91/100\n",
      "354/354 [==============================] - 0s 102us/sample - loss: 29.1163\n",
      "Epoch 92/100\n",
      "354/354 [==============================] - 0s 99us/sample - loss: 29.2263\n",
      "Epoch 93/100\n",
      "354/354 [==============================] - 0s 107us/sample - loss: 32.8088\n",
      "Epoch 94/100\n"
     ]
    },
    {
     "name": "stdout",
     "output_type": "stream",
     "text": [
      "354/354 [==============================] - 0s 93us/sample - loss: 31.2787\n",
      "Epoch 95/100\n",
      "354/354 [==============================] - 0s 90us/sample - loss: 34.5638\n",
      "Epoch 96/100\n",
      "354/354 [==============================] - 0s 110us/sample - loss: 26.4432\n",
      "Epoch 97/100\n",
      "354/354 [==============================] - 0s 90us/sample - loss: 29.3041\n",
      "Epoch 98/100\n",
      "354/354 [==============================] - 0s 90us/sample - loss: 32.3003\n",
      "Epoch 99/100\n",
      "354/354 [==============================] - 0s 85us/sample - loss: 31.5556\n",
      "Epoch 100/100\n",
      "354/354 [==============================] - 0s 90us/sample - loss: 30.3746\n"
     ]
    },
    {
     "data": {
      "text/plain": [
       "<tensorflow.python.keras.callbacks.History at 0x1965ef57648>"
      ]
     },
     "execution_count": 107,
     "metadata": {},
     "output_type": "execute_result"
    }
   ],
   "source": [
    "model.fit(x_train, y_train, epochs = 100)"
   ]
  },
  {
   "cell_type": "code",
   "execution_count": 108,
   "metadata": {},
   "outputs": [
    {
     "name": "stdout",
     "output_type": "stream",
     "text": [
      "152/152 [==============================] - 0s 72us/sample - loss: 25.7876\n"
     ]
    },
    {
     "data": {
      "text/plain": [
       "25.787649756983708"
      ]
     },
     "execution_count": 108,
     "metadata": {},
     "output_type": "execute_result"
    }
   ],
   "source": [
    "model.evaluate(x_test, y_test)"
   ]
  },
  {
   "cell_type": "code",
   "execution_count": 109,
   "metadata": {},
   "outputs": [
    {
     "name": "stdout",
     "output_type": "stream",
     "text": [
      "354/354 [==============================] - 0s 65us/sample - loss: 24.0270\n"
     ]
    },
    {
     "data": {
      "text/plain": [
       "24.026998071347254"
      ]
     },
     "execution_count": 109,
     "metadata": {},
     "output_type": "execute_result"
    }
   ],
   "source": [
    "model.evaluate(x_train, y_train)"
   ]
  },
  {
   "cell_type": "code",
   "execution_count": 117,
   "metadata": {},
   "outputs": [],
   "source": [
    "test_predictions = model.predict(x_test)"
   ]
  },
  {
   "cell_type": "code",
   "execution_count": 118,
   "metadata": {},
   "outputs": [],
   "source": [
    "test_predictions = pd.Series(test_predictions.reshape(152,))"
   ]
  },
  {
   "cell_type": "code",
   "execution_count": 119,
   "metadata": {},
   "outputs": [
    {
     "data": {
      "text/plain": [
       "0      32.939198\n",
       "1      37.063301\n",
       "2      17.959513\n",
       "3      30.317635\n",
       "4      17.697363\n",
       "         ...    \n",
       "147    16.661806\n",
       "148    15.609247\n",
       "149    33.725704\n",
       "150    13.790289\n",
       "151    17.920809\n",
       "Length: 152, dtype: float32"
      ]
     },
     "execution_count": 119,
     "metadata": {},
     "output_type": "execute_result"
    }
   ],
   "source": [
    "test_predictions"
   ]
  },
  {
   "cell_type": "code",
   "execution_count": 120,
   "metadata": {},
   "outputs": [
    {
     "data": {
      "text/plain": [
       "173    23.6\n",
       "274    32.4\n",
       "491    13.6\n",
       "72     22.8\n",
       "452    16.1\n",
       "       ... \n",
       "441    17.1\n",
       "23     14.5\n",
       "225    50.0\n",
       "433    14.3\n",
       "447    12.6\n",
       "Name: medv, Length: 152, dtype: float64"
      ]
     },
     "execution_count": 120,
     "metadata": {},
     "output_type": "execute_result"
    }
   ],
   "source": [
    "y_test"
   ]
  },
  {
   "cell_type": "code",
   "execution_count": 126,
   "metadata": {},
   "outputs": [
    {
     "ename": "AttributeError",
     "evalue": "'Series' object has no attribute 'reshape'",
     "output_type": "error",
     "traceback": [
      "\u001b[1;31m---------------------------------------------------------------------------\u001b[0m",
      "\u001b[1;31mAttributeError\u001b[0m                            Traceback (most recent call last)",
      "\u001b[1;32m<ipython-input-126-462565de65c1>\u001b[0m in \u001b[0;36m<module>\u001b[1;34m\u001b[0m\n\u001b[1;32m----> 1\u001b[1;33m \u001b[0mpre\u001b[0m \u001b[1;33m=\u001b[0m \u001b[0mpd\u001b[0m\u001b[1;33m.\u001b[0m\u001b[0mDataFrame\u001b[0m\u001b[1;33m(\u001b[0m\u001b[0my_test\u001b[0m\u001b[1;33m.\u001b[0m\u001b[0mreshape\u001b[0m\u001b[1;33m(\u001b[0m\u001b[1;36m152\u001b[0m\u001b[1;33m,\u001b[0m\u001b[1;33m)\u001b[0m\u001b[1;33m)\u001b[0m\u001b[1;33m\u001b[0m\u001b[1;33m\u001b[0m\u001b[0m\n\u001b[0m\u001b[0;32m      2\u001b[0m \u001b[0mpre\u001b[0m\u001b[1;33m\u001b[0m\u001b[1;33m\u001b[0m\u001b[0m\n",
      "\u001b[1;32m~\\Anaconda3\\lib\\site-packages\\pandas\\core\\generic.py\u001b[0m in \u001b[0;36m__getattr__\u001b[1;34m(self, name)\u001b[0m\n\u001b[0;32m   5177\u001b[0m             \u001b[1;32mif\u001b[0m \u001b[0mself\u001b[0m\u001b[1;33m.\u001b[0m\u001b[0m_info_axis\u001b[0m\u001b[1;33m.\u001b[0m\u001b[0m_can_hold_identifiers_and_holds_name\u001b[0m\u001b[1;33m(\u001b[0m\u001b[0mname\u001b[0m\u001b[1;33m)\u001b[0m\u001b[1;33m:\u001b[0m\u001b[1;33m\u001b[0m\u001b[1;33m\u001b[0m\u001b[0m\n\u001b[0;32m   5178\u001b[0m                 \u001b[1;32mreturn\u001b[0m \u001b[0mself\u001b[0m\u001b[1;33m[\u001b[0m\u001b[0mname\u001b[0m\u001b[1;33m]\u001b[0m\u001b[1;33m\u001b[0m\u001b[1;33m\u001b[0m\u001b[0m\n\u001b[1;32m-> 5179\u001b[1;33m             \u001b[1;32mreturn\u001b[0m \u001b[0mobject\u001b[0m\u001b[1;33m.\u001b[0m\u001b[0m__getattribute__\u001b[0m\u001b[1;33m(\u001b[0m\u001b[0mself\u001b[0m\u001b[1;33m,\u001b[0m \u001b[0mname\u001b[0m\u001b[1;33m)\u001b[0m\u001b[1;33m\u001b[0m\u001b[1;33m\u001b[0m\u001b[0m\n\u001b[0m\u001b[0;32m   5180\u001b[0m \u001b[1;33m\u001b[0m\u001b[0m\n\u001b[0;32m   5181\u001b[0m     \u001b[1;32mdef\u001b[0m \u001b[0m__setattr__\u001b[0m\u001b[1;33m(\u001b[0m\u001b[0mself\u001b[0m\u001b[1;33m,\u001b[0m \u001b[0mname\u001b[0m\u001b[1;33m,\u001b[0m \u001b[0mvalue\u001b[0m\u001b[1;33m)\u001b[0m\u001b[1;33m:\u001b[0m\u001b[1;33m\u001b[0m\u001b[1;33m\u001b[0m\u001b[0m\n",
      "\u001b[1;31mAttributeError\u001b[0m: 'Series' object has no attribute 'reshape'"
     ]
    }
   ],
   "source": [
    "pre = pd.DataFrame(y_test.reshape(152,))\n",
    "pre"
   ]
  },
  {
   "cell_type": "code",
   "execution_count": 124,
   "metadata": {},
   "outputs": [],
   "source": [
    "pre = pd.concat([pre, test_predictions])"
   ]
  },
  {
   "cell_type": "code",
   "execution_count": 125,
   "metadata": {},
   "outputs": [
    {
     "data": {
      "text/html": [
       "<div>\n",
       "<style scoped>\n",
       "    .dataframe tbody tr th:only-of-type {\n",
       "        vertical-align: middle;\n",
       "    }\n",
       "\n",
       "    .dataframe tbody tr th {\n",
       "        vertical-align: top;\n",
       "    }\n",
       "\n",
       "    .dataframe thead th {\n",
       "        text-align: right;\n",
       "    }\n",
       "</style>\n",
       "<table border=\"1\" class=\"dataframe\">\n",
       "  <thead>\n",
       "    <tr style=\"text-align: right;\">\n",
       "      <th></th>\n",
       "      <th>0</th>\n",
       "      <th>medv</th>\n",
       "    </tr>\n",
       "  </thead>\n",
       "  <tbody>\n",
       "    <tr>\n",
       "      <td>0</td>\n",
       "      <td>32.939198</td>\n",
       "      <td>24.0</td>\n",
       "    </tr>\n",
       "    <tr>\n",
       "      <td>1</td>\n",
       "      <td>37.063301</td>\n",
       "      <td>NaN</td>\n",
       "    </tr>\n",
       "    <tr>\n",
       "      <td>2</td>\n",
       "      <td>17.959513</td>\n",
       "      <td>34.7</td>\n",
       "    </tr>\n",
       "    <tr>\n",
       "      <td>3</td>\n",
       "      <td>30.317635</td>\n",
       "      <td>NaN</td>\n",
       "    </tr>\n",
       "    <tr>\n",
       "      <td>4</td>\n",
       "      <td>17.697363</td>\n",
       "      <td>NaN</td>\n",
       "    </tr>\n",
       "    <tr>\n",
       "      <td>...</td>\n",
       "      <td>...</td>\n",
       "      <td>...</td>\n",
       "    </tr>\n",
       "    <tr>\n",
       "      <td>147</td>\n",
       "      <td>16.661806</td>\n",
       "      <td>NaN</td>\n",
       "    </tr>\n",
       "    <tr>\n",
       "      <td>148</td>\n",
       "      <td>15.609247</td>\n",
       "      <td>NaN</td>\n",
       "    </tr>\n",
       "    <tr>\n",
       "      <td>149</td>\n",
       "      <td>33.725704</td>\n",
       "      <td>NaN</td>\n",
       "    </tr>\n",
       "    <tr>\n",
       "      <td>150</td>\n",
       "      <td>13.790289</td>\n",
       "      <td>NaN</td>\n",
       "    </tr>\n",
       "    <tr>\n",
       "      <td>151</td>\n",
       "      <td>17.920809</td>\n",
       "      <td>NaN</td>\n",
       "    </tr>\n",
       "  </tbody>\n",
       "</table>\n",
       "<p>406 rows × 2 columns</p>\n",
       "</div>"
      ],
      "text/plain": [
       "             0  medv\n",
       "0    32.939198  24.0\n",
       "1    37.063301   NaN\n",
       "2    17.959513  34.7\n",
       "3    30.317635   NaN\n",
       "4    17.697363   NaN\n",
       "..         ...   ...\n",
       "147  16.661806   NaN\n",
       "148  15.609247   NaN\n",
       "149  33.725704   NaN\n",
       "150  13.790289   NaN\n",
       "151  17.920809   NaN\n",
       "\n",
       "[406 rows x 2 columns]"
      ]
     },
     "execution_count": 125,
     "metadata": {},
     "output_type": "execute_result"
    }
   ],
   "source": [
    "pre"
   ]
  },
  {
   "cell_type": "code",
   "execution_count": null,
   "metadata": {},
   "outputs": [],
   "source": []
  }
 ],
 "metadata": {
  "kernelspec": {
   "display_name": "Python 3",
   "language": "python",
   "name": "python3"
  },
  "language_info": {
   "codemirror_mode": {
    "name": "ipython",
    "version": 3
   },
   "file_extension": ".py",
   "mimetype": "text/x-python",
   "name": "python",
   "nbconvert_exporter": "python",
   "pygments_lexer": "ipython3",
   "version": "3.7.4"
  }
 },
 "nbformat": 4,
 "nbformat_minor": 2
}
